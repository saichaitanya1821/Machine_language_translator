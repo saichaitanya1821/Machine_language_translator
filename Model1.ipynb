{
  "nbformat": 4,
  "nbformat_minor": 0,
  "metadata": {
    "colab": {
      "provenance": [],
      "collapsed_sections": []
    },
    "kernelspec": {
      "name": "python3",
      "display_name": "Python 3"
    },
    "language_info": {
      "name": "python"
    }
  },
  "cells": [
    {
      "cell_type": "code",
      "source": [
        "!pip install matplotlib-venn"
      ],
      "metadata": {
        "colab": {
          "base_uri": "https://localhost:8080/"
        },
        "id": "tefGm5OzLIBT",
        "outputId": "768d734f-55cd-4ac7-c2ce-45632cc5d922"
      },
      "execution_count": 15,
      "outputs": [
        {
          "output_type": "stream",
          "name": "stdout",
          "text": [
            "Looking in indexes: https://pypi.org/simple, https://us-python.pkg.dev/colab-wheels/public/simple/\n",
            "Requirement already satisfied: matplotlib-venn in /usr/local/lib/python3.7/dist-packages (0.11.7)\n",
            "Requirement already satisfied: scipy in /usr/local/lib/python3.7/dist-packages (from matplotlib-venn) (1.7.3)\n",
            "Requirement already satisfied: matplotlib in /usr/local/lib/python3.7/dist-packages (from matplotlib-venn) (3.2.2)\n",
            "Requirement already satisfied: numpy in /usr/local/lib/python3.7/dist-packages (from matplotlib-venn) (1.21.6)\n",
            "Requirement already satisfied: kiwisolver>=1.0.1 in /usr/local/lib/python3.7/dist-packages (from matplotlib->matplotlib-venn) (1.4.4)\n",
            "Requirement already satisfied: pyparsing!=2.0.4,!=2.1.2,!=2.1.6,>=2.0.1 in /usr/local/lib/python3.7/dist-packages (from matplotlib->matplotlib-venn) (3.0.9)\n",
            "Requirement already satisfied: cycler>=0.10 in /usr/local/lib/python3.7/dist-packages (from matplotlib->matplotlib-venn) (0.11.0)\n",
            "Requirement already satisfied: python-dateutil>=2.1 in /usr/local/lib/python3.7/dist-packages (from matplotlib->matplotlib-venn) (2.8.2)\n",
            "Requirement already satisfied: typing-extensions in /usr/local/lib/python3.7/dist-packages (from kiwisolver>=1.0.1->matplotlib->matplotlib-venn) (4.1.1)\n",
            "Requirement already satisfied: six>=1.5 in /usr/local/lib/python3.7/dist-packages (from python-dateutil>=2.1->matplotlib->matplotlib-venn) (1.15.0)\n"
          ]
        }
      ]
    },
    {
      "cell_type": "code",
      "execution_count": 17,
      "metadata": {
        "colab": {
          "base_uri": "https://localhost:8080/"
        },
        "id": "6QwDURjY4o_L",
        "outputId": "74332558-659d-47a4-c4c1-873226ae5854"
      },
      "outputs": [
        {
          "output_type": "stream",
          "name": "stdout",
          "text": [
            "Drive already mounted at /content/gdrive; to attempt to forcibly remount, call drive.mount(\"/content/gdrive\", force_remount=True).\n"
          ]
        }
      ],
      "source": [
        "import os, sys\n",
        "import numpy as np\n",
        "import matplotlib.pyplot as plt\n",
        "from keras.models import Model\n",
        "from keras.layers import Input, LSTM, GRU, Dense, Embedding\n",
        "from keras.preprocessing.text import Tokenizer\n",
        "from keras_preprocessing.sequence import pad_sequences\n",
        "from tensorflow.keras.utils import to_categorical\n",
        "from google.colab import drive\n",
        "drive.mount('/content/gdrive')\n",
        "from numpy import array\n",
        "from numpy import asarray\n",
        "from numpy import zeros"
      ]
    },
    {
      "cell_type": "code",
      "source": [
        "BATCH_SIZE = 64\n",
        "NUM_SENTENCES = 20000\n",
        "MAX_SENTENCE_LENGTH = 50\n",
        "MAX_WORDS_COUNT = 20000\n",
        "EMBEDDING_SIZE = 100\n",
        "EPOCHS = 20\n",
        "LSTM_NODES =256"
      ],
      "metadata": {
        "id": "7uJYWmdA6CWu"
      },
      "execution_count": 18,
      "outputs": []
    },
    {
      "cell_type": "code",
      "source": [
        "Input_list = [] \n",
        "Output_list = []  \n",
        "Output_input_list = []  \n",
        " \n",
        "count = 0\n",
        "for line in open(r'/content/gdrive/My Drive/german_sample.txt', encoding=\"utf-8\"):\n",
        "    count += 1\n",
        "\n",
        "    if count > NUM_SENTENCES:\n",
        "        break\n",
        "\n",
        "    if '\\t' not in line:\n",
        "        continue\n",
        "\n",
        "    input_sentence, output = line.rstrip().split('\\t')\n",
        "\n",
        "    output_sentence = output + ' <eos>'\n",
        "    output_sentence_input = '<sos> ' + output\n",
        "\n",
        "    Input_list.append(input_sentence)\n",
        "    Output_list.append(output_sentence)\n",
        "    Output_input_list.append(output_sentence_input)\n",
        "\n",
        "print(\"Number of input samples for encoder:\", len(Input_list))\n",
        "print(\"Number of output samples for encoder:\", len(Output_list))\n",
        "print(\"Number of input samples for decoder:\", len(Output_input_list))"
      ],
      "metadata": {
        "colab": {
          "base_uri": "https://localhost:8080/"
        },
        "id": "KhFu3B6v6KPB",
        "outputId": "79e205f7-25bc-457e-9d36-08af763273d5"
      },
      "execution_count": 19,
      "outputs": [
        {
          "output_type": "stream",
          "name": "stdout",
          "text": [
            "Number of input samples for encoder: 20000\n",
            "Number of output samples for encoder: 20000\n",
            "Number of input samples for decoder: 20000\n"
          ]
        }
      ]
    },
    {
      "cell_type": "code",
      "source": [
        "print(Input_list[205])\n",
        "print(Output_list[205])\n",
        "print(Output_input_list[205])"
      ],
      "metadata": {
        "colab": {
          "base_uri": "https://localhost:8080/"
        },
        "id": "JEHLXdxQ6N__",
        "outputId": "7fa3f15f-ef21-402b-cb22-79048f63b5b2"
      },
      "execution_count": null,
      "outputs": [
        {
          "output_type": "stream",
          "name": "stdout",
          "text": [
            "Help us.\n",
            "Hilf uns! <eos>\n",
            "<sos> Hilf uns!\n"
          ]
        }
      ]
    },
    {
      "cell_type": "code",
      "source": [
        "token_input = Tokenizer(num_words = MAX_WORDS_COUNT)\n",
        "token_input.fit_on_texts(Input_list)\n",
        "input_integer_seq = token_input.texts_to_sequences(Input_list)\n",
        "\n",
        "input_word_index = token_input.word_index\n",
        "print('Number of unique words in input list: %s' % len(input_word_index))\n",
        "\n",
        "max_input_len = max(len(sen) for sen in input_integer_seq)\n",
        "print(\"Length of the longest sentence in input list: %g\" % max_input_len)"
      ],
      "metadata": {
        "colab": {
          "base_uri": "https://localhost:8080/"
        },
        "id": "p9EQbUoC6jhn",
        "outputId": "67a1644c-da4b-43e5-a484-edbf6134d48d"
      },
      "execution_count": null,
      "outputs": [
        {
          "output_type": "stream",
          "name": "stdout",
          "text": [
            "Number of unique words in input list: 3552\n",
            "Length of the longest sentence in input list: 6\n"
          ]
        }
      ]
    },
    {
      "cell_type": "code",
      "source": [
        "token_output = Tokenizer(num_words = MAX_WORDS_COUNT, filters='')\n",
        "token_output.fit_on_texts(Output_list + Output_input_list)\n",
        "output_integer_seq = token_output.texts_to_sequences(Output_list)\n",
        "output_input_integer_seq = token_output.texts_to_sequences(Output_input_list)\n",
        "\n",
        "output_word_index = token_output.word_index\n",
        "print('Number of unique words in the output list: %s' % len(output_word_index))\n",
        "\n",
        "num_words_output = len(output_word_index) + 1\n",
        "max_out_len = max(len(sen) for sen in output_integer_seq)\n",
        "print(\"Length of the longest sentence in output list: %g\" % max_out_len)"
      ],
      "metadata": {
        "colab": {
          "base_uri": "https://localhost:8080/"
        },
        "id": "53sQz1jP6o46",
        "outputId": "aa0f8865-a1ae-4e81-b055-1c88d6b12c98"
      },
      "execution_count": null,
      "outputs": [
        {
          "output_type": "stream",
          "name": "stdout",
          "text": [
            "Number of unique words in the output list: 8090\n",
            "Length of the longest sentence in output list: 11\n"
          ]
        }
      ]
    },
    {
      "cell_type": "code",
      "source": [
        "encoder_padded_input_sequence = pad_sequences(input_integer_seq, maxlen=max_input_len)\n",
        "print(\"Checking shape of padded input sequence for encoder:\", encoder_padded_input_sequence.shape)\n",
        "print(\"Padded input sequence for encoder at index [205]:\", encoder_padded_input_sequence[205])"
      ],
      "metadata": {
        "colab": {
          "base_uri": "https://localhost:8080/"
        },
        "id": "a_byB0_06tGQ",
        "outputId": "4fd8d452-6889-4ae5-90e0-c52b561ac89a"
      },
      "execution_count": null,
      "outputs": [
        {
          "output_type": "stream",
          "name": "stdout",
          "text": [
            "Checking shape of padded input sequence for encoder: (20000, 6)\n",
            "Padded input sequence for encoder at index [205]: [ 0  0  0  0 63 57]\n"
          ]
        }
      ]
    },
    {
      "cell_type": "code",
      "source": [
        "print(input_word_index[\"help\"])\n",
        "print(input_word_index[\"us\"])"
      ],
      "metadata": {
        "colab": {
          "base_uri": "https://localhost:8080/"
        },
        "id": "GbaW27TN8k-N",
        "outputId": "17e154d7-e4eb-4c7f-de84-9f8200496036"
      },
      "execution_count": null,
      "outputs": [
        {
          "output_type": "stream",
          "name": "stdout",
          "text": [
            "63\n",
            "57\n"
          ]
        }
      ]
    },
    {
      "cell_type": "code",
      "source": [
        "decoder_padded_input_sequence = pad_sequences(output_input_integer_seq, maxlen=max_out_len, padding='post')\n",
        "print(\"Checking shape of padded input sequence for decoder:\", decoder_padded_input_sequence.shape)\n",
        "print(\"Padded input sequence for decoder at index [205]:\", decoder_padded_input_sequence[205])"
      ],
      "metadata": {
        "colab": {
          "base_uri": "https://localhost:8080/"
        },
        "id": "YV0ERMQJ92AE",
        "outputId": "7e2fd64c-94b5-487e-ff6e-6b95dac39b1b"
      },
      "execution_count": null,
      "outputs": [
        {
          "output_type": "stream",
          "name": "stdout",
          "text": [
            "Checking shape of padded input sequence for decoder: (20000, 11)\n",
            "Padded input sequence for decoder at index [205]: [  2 398 399   0   0   0   0   0   0   0   0]\n"
          ]
        }
      ]
    },
    {
      "cell_type": "code",
      "source": [
        "print(output_word_index[\"<sos>\"])\n",
        "print(output_word_index[\"hilf\"])\n",
        "print(output_word_index[\"uns!\"])"
      ],
      "metadata": {
        "colab": {
          "base_uri": "https://localhost:8080/"
        },
        "id": "G8QebWun99ts",
        "outputId": "45ccfdb1-5007-4c64-efcf-a6cf73039aaf"
      },
      "execution_count": null,
      "outputs": [
        {
          "output_type": "stream",
          "name": "stdout",
          "text": [
            "2\n",
            "398\n",
            "399\n"
          ]
        }
      ]
    },
    {
      "cell_type": "code",
      "source": [
        "decoder_padded_output_sequence=pad_sequences(output_integer_seq, maxlen=max_out_len, padding='post')\n",
        "print(\"Checking shape of padded output sequence for decoder:\", decoder_padded_output_sequence.shape)\n",
        "print(\"Padded output sequence for decoder at index [205]\", decoder_padded_output_sequence[205])\n"
      ],
      "metadata": {
        "colab": {
          "base_uri": "https://localhost:8080/"
        },
        "id": "m4RjWzfe_8ij",
        "outputId": "3ad430b8-b0ca-48fa-de2f-36b49daaeb75"
      },
      "execution_count": null,
      "outputs": [
        {
          "output_type": "stream",
          "name": "stdout",
          "text": [
            "Checking shape of padded output sequence for decoder: (20000, 11)\n",
            "Padded output sequence for decoder at index [205] [398 399   1   0   0   0   0   0   0   0   0]\n"
          ]
        }
      ]
    },
    {
      "cell_type": "code",
      "source": [
        "word_embed_dict = dict()\n",
        "\n",
        "globvector  = open(r'/content/gdrive/My Drive/glove.6B.100d.txt', encoding=\"utf8\")\n",
        "\n",
        "for line in globvector:\n",
        "    records = line.split()\n",
        "    word = records[0]\n",
        "    vector_dim  = asarray(records[1:], dtype='float32')\n",
        "    word_embed_dict[word] = vector_dim \n",
        "globvector.close()"
      ],
      "metadata": {
        "id": "Yga8Qk9xAdSa"
      },
      "execution_count": null,
      "outputs": []
    },
    {
      "cell_type": "code",
      "source": [
        "words_count = min(MAX_WORDS_COUNT, len(input_word_index) + 1)\n",
        "embedding_matrix = zeros((words_count, EMBEDDING_SIZE))\n",
        "for word, index in input_word_index.items():\n",
        "    embedding_vector = word_embed_dict.get(word)\n",
        "    if embedding_vector is not None:\n",
        "        embedding_matrix[index] = embedding_vector"
      ],
      "metadata": {
        "id": "A3s6zyyXCHNj"
      },
      "execution_count": null,
      "outputs": []
    },
    {
      "cell_type": "code",
      "source": [
        "print(word_embed_dict[\"help\"])"
      ],
      "metadata": {
        "colab": {
          "base_uri": "https://localhost:8080/"
        },
        "id": "5KCE9jGaCK-C",
        "outputId": "cafc92aa-958b-478f-c1ae-c862e3053bf6"
      },
      "execution_count": null,
      "outputs": [
        {
          "output_type": "stream",
          "name": "stdout",
          "text": [
            "[-0.2272     0.41578    0.035985  -0.22895    0.13481   -0.12407\n",
            " -0.56653   -0.32096    0.16223   -0.024273  -0.033683  -0.4281\n",
            " -0.043623  -0.18682   -0.29002   -0.2464     0.51505   -0.27678\n",
            " -0.97691    0.6466    -0.2955    -0.34955    0.0085932  0.17147\n",
            " -0.24341    0.018099  -0.57991   -0.68634    0.29723   -0.19539\n",
            " -0.39285    0.55418   -0.11855    0.40271   -0.24441    0.13792\n",
            "  0.14396    0.15116    0.19257   -0.095074  -0.59663   -0.27685\n",
            " -0.43814   -0.98947   -0.52515    0.52006   -0.4445    -0.23366\n",
            " -0.21019   -0.9059    -0.78404    0.11093    0.09208    1.2145\n",
            "  0.52067   -2.4821    -0.17693   -0.94136    1.8578     0.17312\n",
            " -0.32761    0.45067   -0.092353   0.11201    0.50869    0.52743\n",
            " -0.075203   0.73518    0.40716   -0.74727    0.60342   -0.69189\n",
            " -0.56087   -0.87252    0.56949    0.35642   -0.25138    0.37888\n",
            " -0.68022    0.19444    0.92435    0.5161    -0.62632   -0.16946\n",
            " -1.825      0.23406    0.31977    0.76773   -0.83824   -0.38335\n",
            " -0.037695  -0.053895   0.1697    -0.97895   -0.5481    -0.25664\n",
            "  0.10314   -0.16628    0.216      0.015172 ]\n"
          ]
        }
      ]
    },
    {
      "cell_type": "code",
      "source": [
        "print(embedding_matrix[63])"
      ],
      "metadata": {
        "colab": {
          "base_uri": "https://localhost:8080/"
        },
        "id": "VwKLLAxFCWSe",
        "outputId": "9acf5af4-ae05-431f-8e6d-0b2a1b52af60"
      },
      "execution_count": null,
      "outputs": [
        {
          "output_type": "stream",
          "name": "stdout",
          "text": [
            "[-0.2272      0.41578001  0.035985   -0.22894999  0.13481    -0.12407\n",
            " -0.56652999 -0.32095999  0.16223    -0.024273   -0.033683   -0.42809999\n",
            " -0.043623   -0.18682    -0.29001999 -0.2464      0.51504999 -0.27678001\n",
            " -0.97691     0.64660001 -0.29550001 -0.34955001  0.0085932   0.17147\n",
            " -0.24341001  0.018099   -0.57990998 -0.68633997  0.29723001 -0.19539\n",
            " -0.39285001  0.55418003 -0.11855     0.40270999 -0.24440999  0.13792001\n",
            "  0.14396     0.15116     0.19257    -0.095074   -0.59662998 -0.27684999\n",
            " -0.43814    -0.98947001 -0.52515     0.52006    -0.4445     -0.23366\n",
            " -0.21019    -0.9059     -0.78403997  0.11093     0.09208     1.21449995\n",
            "  0.52067    -2.48210001 -0.17693    -0.94136     1.85780001  0.17312001\n",
            " -0.32760999  0.45067    -0.092353    0.11201     0.50869     0.52743\n",
            " -0.075203    0.73518002  0.40716001 -0.74726999  0.60342002 -0.69189\n",
            " -0.56086999 -0.87252003  0.56949002  0.35642001 -0.25138     0.37887999\n",
            " -0.68022001  0.19444001  0.92435002  0.51609999 -0.62632    -0.16946\n",
            " -1.82500005  0.23406     0.31977001  0.76773    -0.83824003 -0.38335001\n",
            " -0.037695   -0.053895    0.1697     -0.97895002 -0.54809999 -0.25663999\n",
            "  0.10314    -0.16628     0.21600001  0.015172  ]\n"
          ]
        }
      ]
    },
    {
      "cell_type": "code",
      "source": [
        "embedding_layer = Embedding(words_count, EMBEDDING_SIZE, weights=[embedding_matrix], input_length=max_input_len)"
      ],
      "metadata": {
        "id": "Mx8TNYpUCdYo"
      },
      "execution_count": null,
      "outputs": []
    },
    {
      "cell_type": "code",
      "source": [
        "decoder_target_array = np.zeros((\n",
        "        len(Input_list),\n",
        "        max_out_len,\n",
        "        num_words_output\n",
        "    ),\n",
        "    dtype='float32')"
      ],
      "metadata": {
        "id": "MAqoW5qgCg-n"
      },
      "execution_count": null,
      "outputs": []
    },
    {
      "cell_type": "code",
      "source": [
        "decoder_target_array.shape"
      ],
      "metadata": {
        "colab": {
          "base_uri": "https://localhost:8080/"
        },
        "id": "tS6YLSrMCmOe",
        "outputId": "c16abdad-910d-43cc-c19c-cf2d65f6527d"
      },
      "execution_count": null,
      "outputs": [
        {
          "output_type": "execute_result",
          "data": {
            "text/plain": [
              "(20000, 11, 8091)"
            ]
          },
          "metadata": {},
          "execution_count": 59
        }
      ]
    },
    {
      "cell_type": "code",
      "source": [
        "for i,e in enumerate(decoder_padded_output_sequence):\n",
        "    for t, word in enumerate(e):\n",
        "        decoder_target_array[i, t, word] = 1"
      ],
      "metadata": {
        "id": "jgNibpPuCs9X"
      },
      "execution_count": null,
      "outputs": []
    },
    {
      "cell_type": "code",
      "source": [
        "encoder_in_placeholder = Input(shape=(max_input_len,))\n",
        "x = embedding_layer(encoder_in_placeholder)\n",
        "encoder = LSTM(LSTM_NODES, return_state=True)\n",
        "\n",
        "encoder_outputs, h, c = encoder(x)\n",
        "encoder_states = [h, c]"
      ],
      "metadata": {
        "id": "v4PmaOxsC0Mc"
      },
      "execution_count": null,
      "outputs": []
    },
    {
      "cell_type": "code",
      "source": [
        "decoder_in_placeholder = Input(shape=(max_out_len,))\n",
        "\n",
        "decoder_embedding = Embedding(num_words_output, LSTM_NODES)\n",
        "decoder_inputs_x = decoder_embedding(decoder_in_placeholder)\n",
        "\n",
        "decoder_lstm = LSTM(LSTM_NODES, return_sequences=True, return_state=True)\n",
        "decoder_outputs, _, _ = decoder_lstm(decoder_inputs_x, initial_state=encoder_states)"
      ],
      "metadata": {
        "id": "fdiuSH8RC25N"
      },
      "execution_count": null,
      "outputs": []
    },
    {
      "cell_type": "code",
      "source": [
        "decoder_dense = Dense(num_words_output, activation='softmax')\n",
        "decoder_outputs = decoder_dense(decoder_outputs)"
      ],
      "metadata": {
        "id": "nyMx7XiwC7Mm"
      },
      "execution_count": null,
      "outputs": []
    },
    {
      "cell_type": "code",
      "source": [
        "model1 = Model([encoder_in_placeholder,\n",
        "  decoder_in_placeholder], decoder_outputs)\n",
        "model1.compile(\n",
        "    optimizer='rmsprop',\n",
        "    loss='categorical_crossentropy',\n",
        "    metrics=['accuracy'])"
      ],
      "metadata": {
        "id": "R1pcSaiEC9mi"
      },
      "execution_count": null,
      "outputs": []
    },
    {
      "cell_type": "code",
      "source": [
        "r = model1.fit(\n",
        "    [encoder_padded_input_sequence, decoder_padded_input_sequence],\n",
        "    decoder_target_array,\n",
        "    batch_size=BATCH_SIZE,\n",
        "    epochs=EPOCHS,\n",
        "    validation_split=0.1,)"
      ],
      "metadata": {
        "colab": {
          "base_uri": "https://localhost:8080/"
        },
        "id": "ti2jTr6FC_iI",
        "outputId": "cc161820-5479-4911-d5d4-ff9c4b186917"
      },
      "execution_count": null,
      "outputs": [
        {
          "output_type": "stream",
          "name": "stdout",
          "text": [
            "Epoch 1/20\n",
            "282/282 [==============================] - 119s 408ms/step - loss: 2.1464 - accuracy: 0.7051 - val_loss: 2.1124 - val_accuracy: 0.7076\n",
            "Epoch 2/20\n",
            "282/282 [==============================] - 113s 402ms/step - loss: 1.5802 - accuracy: 0.7691 - val_loss: 1.8903 - val_accuracy: 0.7367\n",
            "Epoch 3/20\n",
            "282/282 [==============================] - 114s 404ms/step - loss: 1.3791 - accuracy: 0.7945 - val_loss: 1.7517 - val_accuracy: 0.7570\n",
            "Epoch 4/20\n",
            "282/282 [==============================] - 115s 410ms/step - loss: 1.2470 - accuracy: 0.8117 - val_loss: 1.6664 - val_accuracy: 0.7681\n",
            "Epoch 5/20\n",
            "282/282 [==============================] - 116s 413ms/step - loss: 1.1473 - accuracy: 0.8238 - val_loss: 1.6102 - val_accuracy: 0.7757\n",
            "Epoch 6/20\n",
            "282/282 [==============================] - 115s 410ms/step - loss: 1.0684 - accuracy: 0.8343 - val_loss: 1.5585 - val_accuracy: 0.7810\n",
            "Epoch 7/20\n",
            "282/282 [==============================] - 114s 404ms/step - loss: 1.0033 - accuracy: 0.8432 - val_loss: 1.5324 - val_accuracy: 0.7838\n",
            "Epoch 8/20\n",
            "282/282 [==============================] - 116s 413ms/step - loss: 0.9467 - accuracy: 0.8515 - val_loss: 1.5171 - val_accuracy: 0.7863\n",
            "Epoch 9/20\n",
            "282/282 [==============================] - 116s 410ms/step - loss: 0.8961 - accuracy: 0.8593 - val_loss: 1.5002 - val_accuracy: 0.7885\n",
            "Epoch 10/20\n",
            "282/282 [==============================] - 116s 412ms/step - loss: 0.8546 - accuracy: 0.8664 - val_loss: 1.4993 - val_accuracy: 0.7913\n",
            "Epoch 11/20\n",
            "282/282 [==============================] - 115s 408ms/step - loss: 0.8165 - accuracy: 0.8723 - val_loss: 1.4695 - val_accuracy: 0.7947\n",
            "Epoch 12/20\n",
            "282/282 [==============================] - 113s 402ms/step - loss: 0.7833 - accuracy: 0.8781 - val_loss: 1.4690 - val_accuracy: 0.7940\n",
            "Epoch 13/20\n",
            "282/282 [==============================] - 115s 408ms/step - loss: 0.7545 - accuracy: 0.8831 - val_loss: 1.4732 - val_accuracy: 0.7930\n",
            "Epoch 14/20\n",
            "282/282 [==============================] - 115s 407ms/step - loss: 0.7221 - accuracy: 0.8881 - val_loss: 1.4749 - val_accuracy: 0.7931\n",
            "Epoch 15/20\n",
            "282/282 [==============================] - 115s 407ms/step - loss: 0.6946 - accuracy: 0.8924 - val_loss: 1.4663 - val_accuracy: 0.7957\n",
            "Epoch 16/20\n",
            "282/282 [==============================] - 113s 399ms/step - loss: 0.6714 - accuracy: 0.8967 - val_loss: 1.4691 - val_accuracy: 0.7961\n",
            "Epoch 17/20\n",
            "282/282 [==============================] - 114s 403ms/step - loss: 0.6536 - accuracy: 0.9001 - val_loss: 1.4872 - val_accuracy: 0.7949\n",
            "Epoch 18/20\n",
            "282/282 [==============================] - 113s 401ms/step - loss: 0.6386 - accuracy: 0.9028 - val_loss: 1.4934 - val_accuracy: 0.7962\n",
            "Epoch 19/20\n",
            "282/282 [==============================] - 114s 404ms/step - loss: 0.6245 - accuracy: 0.9064 - val_loss: 1.5033 - val_accuracy: 0.7958\n",
            "Epoch 20/20\n",
            "282/282 [==============================] - 114s 403ms/step - loss: 0.6108 - accuracy: 0.9093 - val_loss: 1.5249 - val_accuracy: 0.7944\n"
          ]
        }
      ]
    },
    {
      "cell_type": "code",
      "source": [
        "encoder_model = Model(encoder_in_placeholder, encoder_states)"
      ],
      "metadata": {
        "id": "fi09wrTdDE0c"
      },
      "execution_count": null,
      "outputs": []
    },
    {
      "cell_type": "code",
      "source": [
        "plt.plot(r.history['accuracy'])\n",
        "plt.title('Tranining Accuracy')\n",
        "plt.xlabel('Epoch')\n",
        "plt.ylabel('Accuracy')\n",
        "plt.show()"
      ],
      "metadata": {
        "colab": {
          "base_uri": "https://localhost:8080/",
          "height": 295
        },
        "id": "UA77rn5hDGtL",
        "outputId": "448e1907-a984-4ae6-e403-164704e57b35"
      },
      "execution_count": null,
      "outputs": [
        {
          "output_type": "display_data",
          "data": {
            "text/plain": [
              "<Figure size 432x288 with 1 Axes>"
            ],
            "image/png": "[encoded data removed]"
          },
          "metadata": {
            "needs_background": "light"
          }
        }
      ]
    },
    {
      "cell_type": "code",
      "source": [
        "plt.plot(r.history['loss'])\n",
        "plt.title('Training Loss')\n",
        "plt.xlabel('Epoch')\n",
        "plt.ylabel('Loss')\n",
        "plt.show()"
      ],
      "metadata": {
        "colab": {
          "base_uri": "https://localhost:8080/",
          "height": 295
        },
        "id": "kTfRKBO_DJPY",
        "outputId": "44dca1eb-bd9c-4ae4-db6e-cc91cb541e92"
      },
      "execution_count": null,
      "outputs": [
        {
          "output_type": "display_data",
          "data": {
            "text/plain": [
              "<Figure size 432x288 with 1 Axes>"
            ],
            "image/png": "[encoded data removed]"
          },
          "metadata": {
            "needs_background": "light"
          }
        }
      ]
    },
    {
      "cell_type": "code",
      "source": [
        "plt.plot(r.history['val_accuracy'])\n",
        "plt.title('Validation Accuracy')\n",
        "plt.xlabel('Epoch')\n",
        "plt.ylabel('Validation Accuracy')\n",
        "\n",
        "plt.show()"
      ],
      "metadata": {
        "colab": {
          "base_uri": "https://localhost:8080/",
          "height": 295
        },
        "id": "4qj281p4DLVB",
        "outputId": "83c690cf-5935-4cfe-dded-a77773a2ba59"
      },
      "execution_count": null,
      "outputs": [
        {
          "output_type": "display_data",
          "data": {
            "text/plain": [
              "<Figure size 432x288 with 1 Axes>"
            ],
            "image/png": "[encoded data removed]"
          },
          "metadata": {
            "needs_background": "light"
          }
        }
      ]
    },
    {
      "cell_type": "code",
      "source": [
        "plt.plot(r.history['val_loss'])\n",
        "plt.title('Validation Loss')\n",
        "plt.xlabel('Epoch')\n",
        "plt.ylabel('Validation Loss')\n",
        "\n",
        "plt.show()"
      ],
      "metadata": {
        "colab": {
          "base_uri": "https://localhost:8080/",
          "height": 295
        },
        "id": "vgSgXSInDNsF",
        "outputId": "792bf404-530e-431c-e6d4-ded27ea5e97f"
      },
      "execution_count": null,
      "outputs": [
        {
          "output_type": "display_data",
          "data": {
            "text/plain": [
              "<Figure size 432x288 with 1 Axes>"
            ],
            "image/png": "[encoded data removed]"
          },
          "metadata": {
            "needs_background": "light"
          }
        }
      ]
    },
    {
      "cell_type": "code",
      "source": [
        "decoder_state_input_h = Input(shape=(LSTM_NODES,))\n",
        "decoder_state_input_c = Input(shape=(LSTM_NODES,))\n",
        "decoder_states_inputs = [decoder_state_input_h, decoder_state_input_c]"
      ],
      "metadata": {
        "id": "cJWxHV6IDROr"
      },
      "execution_count": null,
      "outputs": []
    },
    {
      "cell_type": "code",
      "source": [
        "decoder_inputs_single = Input(shape=(1,))\n",
        "decoder_inputs_single_x = decoder_embedding(decoder_inputs_single)\n"
      ],
      "metadata": {
        "id": "nvjnG1lSDX2m"
      },
      "execution_count": null,
      "outputs": []
    },
    {
      "cell_type": "code",
      "source": [
        "decoder_outputs, h, c = decoder_lstm(decoder_inputs_single_x, initial_state=decoder_states_inputs)"
      ],
      "metadata": {
        "id": "Pq6JZIk8DbWx"
      },
      "execution_count": null,
      "outputs": []
    },
    {
      "cell_type": "code",
      "source": [
        "decoder_states = [h, c]\n",
        "decoder_outputs = decoder_dense(decoder_outputs)"
      ],
      "metadata": {
        "id": "iMC1AX1PDbpQ"
      },
      "execution_count": null,
      "outputs": []
    },
    {
      "cell_type": "code",
      "source": [
        "decoder_model = Model(\n",
        "    [decoder_inputs_single] + decoder_states_inputs,\n",
        "    [decoder_outputs] + decoder_states)"
      ],
      "metadata": {
        "id": "EgZhZZ6oDfyO"
      },
      "execution_count": null,
      "outputs": []
    },
    {
      "cell_type": "code",
      "source": [
        "index_input_word = {v:k for k, v in input_word_index.items()}\n",
        "index_target_word = {v:k for k, v in output_word_index.items()}"
      ],
      "metadata": {
        "id": "nlpznRllDi5n"
      },
      "execution_count": null,
      "outputs": []
    },
    {
      "cell_type": "code",
      "source": [
        "def translate_sentence(input_seq):\n",
        "    states_value = encoder_model.predict(input_seq)\n",
        "    target_seq = np.zeros((1, 1))\n",
        "    target_seq[0, 0] = output_word_index['<sos>']\n",
        "    eos = output_word_index['<eos>']\n",
        "    output_sentence = []\n",
        "\n",
        "    for _ in range(max_out_len):\n",
        "        output_tokens, h, c = decoder_model.predict([target_seq] + states_value)\n",
        "        idx = np.argmax(output_tokens[0, 0, :])\n",
        "\n",
        "        if eos == idx:\n",
        "            break\n",
        "\n",
        "        word = ''\n",
        "\n",
        "        if idx > 0:\n",
        "            word = index_target_word[idx]\n",
        "            output_sentence.append(word)\n",
        "\n",
        "        target_seq[0, 0] = idx\n",
        "        states_value = [h, c]\n",
        "\n",
        "    return ' '.join(output_sentence)"
      ],
      "metadata": {
        "id": "IUvjcVt8Dlfh"
      },
      "execution_count": null,
      "outputs": []
    },
    {
      "cell_type": "code",
      "source": [
        "i = np.random.choice(len(Input_list))\n",
        "input_seq = encoder_padded_input_sequence[i:i+1]\n",
        "translation = translate_sentence(input_seq)\n",
        "\n",
        "print('Randomly chosen input sentence:', Input_list[i])\n",
        "print('Translated sentence:', translation)"
      ],
      "metadata": {
        "colab": {
          "base_uri": "https://localhost:8080/"
        },
        "id": "NgkhBcljDnsT",
        "outputId": "d66815fc-ea51-4655-f63b-ea0c82c08d0d"
      },
      "execution_count": null,
      "outputs": [
        {
          "output_type": "stream",
          "name": "stdout",
          "text": [
            "Randomly chosen input sentence: I respected Tom.\n",
            "Translated sentence: ich habe tom machte gegeben.\n"
          ]
        }
      ]
    }
  ]
}